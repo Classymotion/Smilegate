{
  "nbformat": 4,
  "nbformat_minor": 0,
  "metadata": {
    "colab": {
      "provenance": [],
      "authorship_tag": "ABX9TyPhTmqVeI78wIsoRVvWlR2L",
      "include_colab_link": true
    },
    "kernelspec": {
      "name": "python3",
      "display_name": "Python 3"
    },
    "language_info": {
      "name": "python"
    }
  },
  "cells": [
    {
      "cell_type": "markdown",
      "metadata": {
        "id": "view-in-github",
        "colab_type": "text"
      },
      "source": [
        "<a href=\"https://colab.research.google.com/github/Classymotion/Smilegate/blob/main/markov_chain.ipynb\" target=\"_parent\"><img src=\"https://colab.research.google.com/assets/colab-badge.svg\" alt=\"Open In Colab\"/></a>"
      ]
    },
    {
      "cell_type": "code",
      "execution_count": 53,
      "metadata": {
        "colab": {
          "base_uri": "https://localhost:8080/"
        },
        "id": "nZ9cgT8omPmj",
        "outputId": "cabd2f3a-7430-4c53-fa9a-af7928e84b22"
      },
      "outputs": [
        {
          "output_type": "stream",
          "name": "stdout",
          "text": [
            "I prefer cats over dogs.\n"
          ]
        }
      ],
      "source": [
        "import random\n",
        "\n",
        "data = [\n",
        "    \"I love cats.\",\n",
        "    \"Cats are adorable.\",\n",
        "    \"Cats make me happy.\",\n",
        "    \"Dogs are loyal.\",\n",
        "    \"I prefer cats over dogs.\",\n",
        "    \"Dogs can be great companions.\",\n",
        "    \"Cats have their own personalities.\"\n",
        "]\n",
        "\n",
        "# 전이 확률 계산\n",
        "transitions = {}\n",
        "for sentence in data:\n",
        "    words = sentence.split()\n",
        "    current_state = words[0]  # 첫 번째 단어를 상태로 사용\n",
        "    next_state = \" \".join(words[1:])  # 다음 단어들을 연결하여 다음 상태로 사용\n",
        "    transitions.setdefault(current_state, []).append(next_state)\n",
        "\n",
        "# 초기 상태 설정\n",
        "current_state = random.choice(list(transitions.keys()))\n",
        "generated_sentence = [current_state]\n",
        "\n",
        "# 문장 생성\n",
        "while current_state in transitions:\n",
        "    next_states = transitions.get(current_state, [])\n",
        "    if len(next_states) == 0:\n",
        "        break\n",
        "    next_state = random.choice(next_states)\n",
        "    generated_sentence.append(next_state)\n",
        "    current_state = next_state\n",
        "\n",
        "generated_sentence = \" \".join(generated_sentence)\n",
        "print(generated_sentence)\n"
      ]
    }
  ]
}